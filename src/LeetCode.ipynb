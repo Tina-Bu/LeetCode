{
 "cells": [
  {
   "cell_type": "code",
   "execution_count": 26,
   "metadata": {},
   "outputs": [],
   "source": [
    "num = 1913"
   ]
  },
  {
   "cell_type": "code",
   "execution_count": 27,
   "metadata": {},
   "outputs": [],
   "source": [
    "nums = [int(x) for x in str(num)]\n",
    "# sort the array descendingly\n",
    "sorted_nums = sorted(nums, reverse=True)\n"
   ]
  },
  {
   "cell_type": "code",
   "execution_count": 28,
   "metadata": {},
   "outputs": [
    {
     "data": {
      "text/plain": [
       "([1, 9, 1, 3], [9, 3, 1, 1])"
      ]
     },
     "execution_count": 28,
     "metadata": {},
     "output_type": "execute_result"
    }
   ],
   "source": [
    "nums, sorted_nums"
   ]
  },
  {
   "cell_type": "code",
   "execution_count": 10,
   "metadata": {},
   "outputs": [],
   "source": [
    "nums = [int(x) for x in str(num)]\n",
    "length = len(nums)\n",
    "biggest = [0 for x in range(length)]\n",
    "\n",
    "for i, n in reversed(list(enumerate(nums))):\n",
    "    if i == len(nums) - 1:\n",
    "        biggest[i] = nums[i]\n",
    "    if i < len(nums) - 1:\n",
    "        biggest[i] = max(nums[i], nums[i + 1])\n"
   ]
  },
  {
   "cell_type": "code",
   "execution_count": 11,
   "metadata": {},
   "outputs": [
    {
     "data": {
      "text/plain": [
       "([1, 9, 1, 3], [9, 9, 3, 3])"
      ]
     },
     "execution_count": 11,
     "metadata": {},
     "output_type": "execute_result"
    }
   ],
   "source": [
    "nums, biggest"
   ]
  },
  {
   "cell_type": "code",
   "execution_count": 12,
   "metadata": {},
   "outputs": [
    {
     "name": "stdout",
     "output_type": "stream",
     "text": [
      "[9, 1, 1, 3]\n",
      "[9, 1, 3, 1]\n"
     ]
    }
   ],
   "source": [
    "small_ind = -1\n",
    "big_ind = -1\n",
    "for i in range(length):\n",
    "    if nums[i] == biggest[i]:\n",
    "        continue\n",
    "    for j in reversed(range(length)):\n",
    "        if biggest[j] == biggest[i] and j > i:\n",
    "            big_ind = j\n",
    "            small_ind = i\n",
    "            nums[small_ind], nums[big_ind] = nums[big_ind], nums[small_ind]\n",
    "            print(\"\".join(str(nums)))\n",
    "            break"
   ]
  },
  {
   "cell_type": "code",
   "execution_count": 20,
   "metadata": {},
   "outputs": [],
   "source": [
    "def maximumSwap(num):\n",
    "    # 1. loop through the integers, \n",
    "    # for each integer, get the biggest integer on its right bigger than it\n",
    "\n",
    "    nums = [int(x) for x in str(num)]\n",
    "    length = len(nums)\n",
    "    biggest = [0 for x in range(length)]\n",
    "\n",
    "    for i, n in reversed(list(enumerate(nums))):\n",
    "        if i == len(nums) - 1:\n",
    "            biggest[i] = nums[i]\n",
    "        if i < len(nums) - 1:\n",
    "            biggest[i] = max(nums[i], nums[i + 1])\n",
    "\n",
    "    # 2. loop through original array, if original array element < biggest, \n",
    "    # loop from end of biggest array, find the last occurance of that biggest element, and switch\n",
    "    small_ind = -1\n",
    "    big_ind = -1\n",
    "    for i in range(length):\n",
    "        if nums[i] == biggest[i]:\n",
    "            continue\n",
    "        for j in reversed(range(length)):\n",
    "            if biggest[j] == biggest[i] and j > i:\n",
    "                big_ind = j\n",
    "                small_ind = i\n",
    "                nums[small_ind], nums[big_ind] = nums[big_ind], nums[small_ind]\n",
    "                return \"\".join(str(x) for x in nums)\n",
    "\n",
    "    return num"
   ]
  },
  {
   "cell_type": "code",
   "execution_count": 21,
   "metadata": {},
   "outputs": [
    {
     "data": {
      "text/plain": [
       "'9113'"
      ]
     },
     "execution_count": 21,
     "metadata": {},
     "output_type": "execute_result"
    }
   ],
   "source": [
    "maximumSwap(1913)"
   ]
  },
  {
   "cell_type": "code",
   "execution_count": 4,
   "metadata": {},
   "outputs": [],
   "source": [
    "import collections"
   ]
  },
  {
   "cell_type": "code",
   "execution_count": 108,
   "metadata": {},
   "outputs": [],
   "source": [
    "def create_graph(words):\n",
    "    indegree = {char: 0 for word in words for char in word}\n",
    "    graph = {char: [] for word in words for char in word}\n",
    "    \n",
    "    # create sequence by comparing 2 adjacent words\n",
    "    \n",
    "    i = 0\n",
    "    while i < len(words) - 1:\n",
    "        pos = 0\n",
    "        while pos < min(len(words[i]), len(words[i + 1])):\n",
    "            first = words[i][pos]\n",
    "            second = words[i + 1][pos]\n",
    "            \n",
    "            if first == second:\n",
    "                pos += 1\n",
    "            else:\n",
    "                indegree[second] += 1\n",
    "                graph[first].append(second)\n",
    "                break\n",
    "        i += 1\n",
    "        \n",
    "    return graph, indegree"
   ]
  },
  {
   "cell_type": "code",
   "execution_count": 113,
   "metadata": {},
   "outputs": [],
   "source": [
    "words = [\"abc\",\"bcd\",\"qwert\",\"ab\"]\n",
    "\n",
    "graph, indegree = create_graph(words)\n",
    "        "
   ]
  },
  {
   "cell_type": "code",
   "execution_count": 114,
   "metadata": {},
   "outputs": [
    {
     "data": {
      "text/plain": [
       "{'a': ['b'],\n",
       " 'b': ['q'],\n",
       " 'c': [],\n",
       " 'd': [],\n",
       " 'e': [],\n",
       " 'q': ['a'],\n",
       " 'r': [],\n",
       " 't': [],\n",
       " 'w': []}"
      ]
     },
     "execution_count": 114,
     "metadata": {},
     "output_type": "execute_result"
    }
   ],
   "source": [
    "graph"
   ]
  },
  {
   "cell_type": "code",
   "execution_count": 112,
   "metadata": {},
   "outputs": [
    {
     "data": {
      "text/plain": [
       "{'a': [], 'b': ['d'], 'c': [], 'd': []}"
      ]
     },
     "execution_count": 112,
     "metadata": {},
     "output_type": "execute_result"
    }
   ],
   "source": [
    "indegree"
   ]
  },
  {
   "cell_type": "code",
   "execution_count": 98,
   "metadata": {},
   "outputs": [],
   "source": [
    "import heapq"
   ]
  },
  {
   "cell_type": "code",
   "execution_count": 55,
   "metadata": {},
   "outputs": [],
   "source": [
    "result = \"\"\n",
    "heap = []\n",
    "for i in indegree:\n",
    "    if indegree[i] == 0:\n",
    "        heapq.heappush(heap, str(i))"
   ]
  },
  {
   "cell_type": "code",
   "execution_count": 56,
   "metadata": {},
   "outputs": [
    {
     "name": "stdout",
     "output_type": "stream",
     "text": [
      "w\n",
      "pushed e\n",
      "we\n",
      "pushed r\n",
      "wer\n",
      "pushed f\n",
      "werf\n",
      "pushed t\n"
     ]
    }
   ],
   "source": [
    "\n",
    "while heap:\n",
    "    cur = str(heapq.heappop(heap))\n",
    "    result += cur\n",
    "    for next in graph[cur]:\n",
    "        indegree[next] -= 1\n",
    "        if indegree[next] == 0:\n",
    "            heapq.heappush(heap, next)\n",
    "            print(result)\n",
    "            printdef create_graph(self, words):\n",
    "        graph = collections.defaultdict(list)\n",
    "        indegree = collections.defaultdict(int)\n",
    "    \n",
    "        # 2 types of edges\n",
    "        # 1 is first character in each words in sorted\n",
    "        i = 0\n",
    "        while i < len(words):\n",
    "            j = i + 1\n",
    "            if i == 0:\n",
    "                indegree[words[i][0]] += 0\n",
    "            \n",
    "            if i < len(words) - 1:\n",
    "                while j < len(words):\n",
    "                    pos_i, pos_j = 0, 0\n",
    "                        if words[j][pos_j] == words[i][pos_i]:\n",
    "                            j += 1†\n",
    "                        if j < len(words):\n",
    "                            if words[j][pos_j] not in graph[words[i][pos_i]]:\n",
    "                                indegree[words[j][pos_j]] += 1\n",
    "                                graph[words[i][pos_i]].append(words[j][pos_j])\n",
    "                        \n",
    "            i = j\n",
    "    (\"pushed \" + next)\n",
    "\n",
    "            "
   ]
  },
  {
   "cell_type": "code",
   "execution_count": null,
   "metadata": {},
   "outputs": [],
   "source": [
    "\n"
   ]
  }
 ],
 "metadata": {
  "kernelspec": {
   "display_name": "Python 3",
   "language": "python",
   "name": "python3"
  },
  "language_info": {
   "codemirror_mode": {
    "name": "ipython",
    "version": 3
   },
   "file_extension": ".py",
   "mimetype": "text/x-python",
   "name": "python",
   "nbconvert_exporter": "python",
   "pygments_lexer": "ipython3",
   "version": "3.6.4"
  }
 },
 "nbformat": 4,
 "nbformat_minor": 2
}
