{
 "cells": [
  {
   "cell_type": "code",
   "execution_count": null,
   "metadata": {},
   "outputs": [],
   "source": [
    "    def create_graph(self, words):\n",
    "        graph = collections.defaultdict(list)\n",
    "        indegree = collections.defaultdict(int)\n",
    "        \n",
    "        # 2 types of edges\n",
    "        # 1 is first character in each words in sorted\n",
    "        i = 0\n",
    "        while i < len(words):\n",
    "            j = i + 1\n",
    "            if i == 0:\n",
    "                indegree[words[i][0]] += 0\n",
    "                \n",
    "            if i < len(words) - 1:\n",
    "                while j < len(words) and words[j][0] == words[i][0]:\n",
    "                    j += 1\n",
    "                if j < len(words):\n",
    "                    if words[j][0] not in graph[words[i][0]]:\n",
    "                        indegree[words[j][0]] += 1\n",
    "                        graph[words[i][0]].append(words[j][0])\n",
    "            i = j\n",
    "            \n",
    "        # 2 is within each word each character is sorted\n",
    "        for word in words:\n",
    "            for i in range(len(word)):\n",
    "                if i == 0:\n",
    "                    indegree[i] += 0\n",
    "                    \n",
    "                if i < len(word) - 1:\n",
    "                    if words[i + 1] not in graph[words[i]]:\n",
    "                        graph[word[i]].append(word[i + 1])\n",
    "                        indegree[word[i + 1]] += 1\n",
    "        \n",
    "        return graph, indegree"
   ]
  }
 ],
 "metadata": {
  "kernelspec": {
   "display_name": "Python 3",
   "language": "python",
   "name": "python3"
  }
 },
 "nbformat": 4,
 "nbformat_minor": 2
}
